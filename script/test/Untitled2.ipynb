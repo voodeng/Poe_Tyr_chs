{
 "cells": [
  {
   "cell_type": "code",
   "execution_count": 1,
   "metadata": {
    "collapsed": false
   },
   "outputs": [
    {
     "ename": "SyntaxError",
     "evalue": "invalid syntax (lib.py, line 131)",
     "output_type": "error",
     "traceback": [
      "\u001b[0;36m  File \u001b[0;32m\"D:\\Dev\\Project\\poe_chs\\script\\lib.py\"\u001b[0;36m, line \u001b[0;32m131\u001b[0m\n\u001b[0;31m    .replace('vs.{', 'vs. {').replace('}vs.', '} vs.')\u001b[0m\n\u001b[0m    ^\u001b[0m\n\u001b[0;31mSyntaxError\u001b[0m\u001b[0;31m:\u001b[0m invalid syntax\n"
     ]
    }
   ],
   "source": [
    "import sys\n",
    "import os\n",
    "import pandas as pd\n",
    "import xml.etree.ElementTree as ET\n",
    "import numpy as np\n",
    "import xlrd\n",
    "import openpyxl\n",
    "\n",
    "from config import *\n",
    "from lib import *\n",
    "\n",
    "# tyr_filename = os.path.join(STORAGE_DIR, 'tyr_en-chs.xlsx')\n",
    "\n",
    "# tdf = pd.read_excel(tyr_filename).fillna('')\n",
    "# tdf\n"
   ]
  },
  {
   "cell_type": "code",
   "execution_count": 3,
   "metadata": {
    "collapsed": true
   },
   "outputs": [],
   "source": [
    "def  has_hz(text):  \n",
    "    hz_yes = False   \n",
    "    for  ch  in  text:  \n",
    "        if ch >= u'\\u4e00' and ch<=u'\\u9fa5':\n",
    "                hz_yes = True\n",
    "        else:\n",
    "                continue      \n",
    "         \n",
    "    return  hz_yes"
   ]
  },
  {
   "cell_type": "code",
   "execution_count": 4,
   "metadata": {
    "collapsed": false
   },
   "outputs": [
    {
     "data": {
      "text/plain": [
       "False"
      ]
     },
     "execution_count": 4,
     "metadata": {},
     "output_type": "execute_result"
    }
   ],
   "source": [
    "# \"开头的字段\n",
    "tx = '\"我们该怎么办，缚命官？\"'\n",
    "t2 = '“ 回答我的问题你就不会有麻烦。 还是说你敢怀疑我？“ '\n",
    "t3 =' [waht i wahnt\" fo“”r\"]'\n",
    "\n",
    "has_hz(t3)\n"
   ]
  },
  {
   "cell_type": "code",
   "execution_count": null,
   "metadata": {
    "collapsed": true
   },
   "outputs": [],
   "source": []
  }
 ],
 "metadata": {
  "anaconda-cloud": {},
  "kernelspec": {
   "display_name": "Python [conda root]",
   "language": "python",
   "name": "conda-root-py"
  },
  "language_info": {
   "codemirror_mode": {
    "name": "ipython",
    "version": 3
   },
   "file_extension": ".py",
   "mimetype": "text/x-python",
   "name": "python",
   "nbconvert_exporter": "python",
   "pygments_lexer": "ipython3",
   "version": "3.5.2"
  }
 },
 "nbformat": 4,
 "nbformat_minor": 1
}

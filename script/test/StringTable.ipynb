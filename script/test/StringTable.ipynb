{
 "cells": [
  {
   "cell_type": "code",
   "execution_count": 1,
   "metadata": {
    "collapsed": false
   },
   "outputs": [],
   "source": [
    "# -*- coding: utf-8 -*-\n",
    "import os\n",
    "import sys\n",
    "import pandas as pd\n",
    "import xml.etree.ElementTree as ET\n",
    "\n",
    "TAG_STRING_TABLE_ENTRY = \"Entry\"\n",
    "TAG_STRING_TABLE_NAME = 'Name'\n",
    "TAG_STRING_TABLE_ID = 'ID'\n",
    "TAG_STRING_TABLE_DEFAULT_TEXT = \"DefaultText\"\n",
    "TAG_STRING_TABLE_FEMALE_TEXT = \"FemaleText\"\n",
    "\n",
    "\n",
    "class StringTable:\n",
    "    def __init__(self):  \n",
    "        self.df = pd.DataFrame()\n",
    "\n",
    "    def parse_file(self, filename):\n",
    "        # parse string table xml\n",
    "        tree = ET.parse(filename)\n",
    "        root = tree.getroot()\n",
    "\n",
    "        print(filename)\n",
    "        name = root.find(TAG_STRING_TABLE_NAME).text\n",
    "        items = []\n",
    "        for entry in root.iter(TAG_STRING_TABLE_ENTRY):\n",
    "            id = entry.find(TAG_STRING_TABLE_ID).text\n",
    "            default_text = entry.find(TAG_STRING_TABLE_DEFAULT_TEXT).text\n",
    "            female_text = entry.find(TAG_STRING_TABLE_FEMALE_TEXT).text\n",
    "            \n",
    "            item = (name, id, default_text, female_text)\n",
    "            items.append(item)\n",
    "        return items\n",
    "\n",
    "    def parse_dir(self, strtbl_dir):\n",
    "        result = []\n",
    "        for dirpath, dirnames, filenames in os.walk(strtbl_dir):\n",
    "            for filename in filenames:\n",
    "                if filename.startswith((\"~\", \".\")):\n",
    "                    continue\n",
    "                if not filename.endswith((\"stringtable\")):\n",
    "                    continue\n",
    "                full_filename = os.path.join(dirpath, filename)\n",
    "                items = self.parse_file(full_filename)\n",
    "                result.extend(items)\n",
    "        return result\n",
    "\n",
    "        \n",
    "    def create_df(self, **args):\n",
    "        '''\n",
    "        Args:\n",
    "            index {boolean}\n",
    "            data {list}\n",
    "            d_key {str}\n",
    "            f_key {str}\n",
    "        '''\n",
    "        index = True  if not 'index' in args else args['index']\n",
    "        d_key = 'DefaultText' if not 'd_key' in args else args['d_key']\n",
    "        f_key = 'FemaleText' if not 'f_key' in args else args['f_key']\n",
    "        \n",
    "        if not 'data' in args:\n",
    "            print('err: need Data')\n",
    "            return\n",
    "            \n",
    "        df = pd.DataFrame.from_records(data, columns=['Name', 'ID', d_key, f_key])\n",
    "        if index:\n",
    "            df.index = [ df['Name'] +'_'+ df['ID'] ]\n",
    "            df.index.name = 'index'\n",
    "\n",
    "        return df\n",
    "            \n",
    "            \n",
    "odd = StringTable()\n",
    "# filename = os.path.join(sys.path[0], 'file\\gui.stringtable') \n",
    "# odd.parse_file(filename)\n",
    "# odd.parse_dir('file')\n",
    "# odd.create_df(data=odd.parse_dir('file'), d_key = 'm_d')\n"
   ]
  },
  {
   "cell_type": "code",
   "execution_count": 10,
   "metadata": {
    "collapsed": false
   },
   "outputs": [
    {
     "data": {
      "text/html": [
       "<div>\n",
       "<table border=\"1\" class=\"dataframe\">\n",
       "  <thead>\n",
       "    <tr style=\"text-align: right;\">\n",
       "      <th></th>\n",
       "      <th>Name</th>\n",
       "      <th>ID</th>\n",
       "      <th>DefaultText</th>\n",
       "      <th>FemaleText</th>\n",
       "    </tr>\n",
       "    <tr>\n",
       "      <th>index</th>\n",
       "      <th></th>\n",
       "      <th></th>\n",
       "      <th></th>\n",
       "      <th></th>\n",
       "    </tr>\n",
       "  </thead>\n",
       "  <tbody>\n",
       "    <tr>\n",
       "      <th>game\\gui_0</th>\n",
       "      <td>game\\gui</td>\n",
       "      <td>0</td>\n",
       "      <td>Godandag</td>\n",
       "      <td>None</td>\n",
       "    </tr>\n",
       "    <tr>\n",
       "      <th>game\\gui_1</th>\n",
       "      <td>game\\gui</td>\n",
       "      <td>1</td>\n",
       "      <td>Cönyngsdag</td>\n",
       "      <td>None</td>\n",
       "    </tr>\n",
       "    <tr>\n",
       "      <th>game\\gui_2</th>\n",
       "      <td>game\\gui</td>\n",
       "      <td>2</td>\n",
       "      <td>Mecwynsdag</td>\n",
       "      <td>None</td>\n",
       "    </tr>\n",
       "  </tbody>\n",
       "</table>\n",
       "</div>"
      ],
      "text/plain": [
       "                Name ID DefaultText FemaleText\n",
       "index                                         \n",
       "game\\gui_0  game\\gui  0    Godandag       None\n",
       "game\\gui_1  game\\gui  1  Cönyngsdag       None\n",
       "game\\gui_2  game\\gui  2  Mecwynsdag       None"
      ]
     },
     "execution_count": 10,
     "metadata": {},
     "output_type": "execute_result"
    }
   ],
   "source": [
    "data = [('game\\\\gui', '0', 'Godandag', None),\n",
    " ('game\\\\gui', '1', 'Cönyngsdag', None),\n",
    " ('game\\\\gui', '2', 'Mecwynsdag', None)]\n",
    "\n",
    "# woc = pd.DataFrame(data, columns=['Name', 'ID', 'DefaultText', 'FemaleText'])\n",
    "# pd.DataFrame.from_records(data,columns=['Name', 'ID', 'DefaultText', 'FemaleText'])\n",
    "odd.create_df(data=data)"
   ]
  },
  {
   "cell_type": "code",
   "execution_count": null,
   "metadata": {
    "collapsed": false
   },
   "outputs": [],
   "source": []
  }
 ],
 "metadata": {
  "anaconda-cloud": {},
  "kernelspec": {
   "display_name": "Python [conda root]",
   "language": "python",
   "name": "conda-root-py"
  },
  "language_info": {
   "codemirror_mode": {
    "name": "ipython",
    "version": 3
   },
   "file_extension": ".py",
   "mimetype": "text/x-python",
   "name": "python",
   "nbconvert_exporter": "python",
   "pygments_lexer": "ipython3",
   "version": "3.5.2"
  }
 },
 "nbformat": 4,
 "nbformat_minor": 1
}

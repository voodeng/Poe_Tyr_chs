{
 "cells": [
  {
   "cell_type": "code",
   "execution_count": null,
   "metadata": {
    "collapsed": false
   },
   "outputs": [],
   "source": [
    "# -*- coding: utf-8 -*-\n",
    "import sys\n",
    "import os\n",
    "import pandas as pd\n",
    "import xml.etree.ElementTree as ET\n",
    "import numpy as np\n",
    "import xlrd\n",
    "import openpyxl\n",
    "\n",
    "sys.path.append(\"..\")\n",
    "from config import *\n",
    "from lib import *"
   ]
  },
  {
   "cell_type": "code",
   "execution_count": null,
   "metadata": {
    "collapsed": false
   },
   "outputs": [],
   "source": [
    "# xdf = ldf.join(rdf)\n",
    "file = merge_result_output_filename\n",
    "file = os.path.join(TEMP_DIR, 'Tyranny_tempCustom.xlsx')\n",
    "xdf = pd.read_excel(file, index_col='index').fillna('')"
   ]
  },
  {
   "cell_type": "code",
   "execution_count": null,
   "metadata": {
    "collapsed": false,
    "scrolled": true
   },
   "outputs": [],
   "source": [
    "# 提取匹配字符\n",
    "re_url = '(\\[url*?[^\\]]*\\].*?\\[/url\\])'\n",
    "re_gloss = '(\\[url=glossary:(.*?[^\\]]*)\\].*?\\[/url\\])'\n",
    "\n",
    "xdf['DefaultText'].str.extract(re_gloss,expand=True).drop_duplicates().fillna('')\n",
    "\n",
    "xdf['[ali]DefaultText'].str.extract(re_gloss,expand=True).drop_duplicates().fillna('')"
   ]
  },
  {
   "cell_type": "code",
   "execution_count": null,
   "metadata": {
    "collapsed": false,
    "scrolled": true
   },
   "outputs": [],
   "source": [
    "ldf = xdf['DefaultText'].str.extract(re_gloss,expand=True).drop_duplicates(1).fillna('')\n",
    "rdf = xdf['merged'].str.extract(re_gloss,expand=True).drop_duplicates().fillna('')\n",
    "\n",
    "ind = ldf.join(rdf, how='outer',rsuffix='_m')\n",
    "ind.columns = ['Eng', 'e1', 'm', 'm1']\n",
    "\n",
    "ind\n",
    "ind.to_excel(os.path.join(TEMP_DIR,'glossary_rep.xlsx'), index=False)"
   ]
  },
  {
   "cell_type": "code",
   "execution_count": null,
   "metadata": {
    "collapsed": false
   },
   "outputs": [],
   "source": [
    "\n"
   ]
  },
  {
   "cell_type": "code",
   "execution_count": 218,
   "metadata": {
    "collapsed": false,
    "scrolled": true
   },
   "outputs": [],
   "source": [
    "# {0}\n",
    "re_var = \"\\{*\\}\"\n",
    "vas = xdf[xdf['DefaultText'].str.contains(re_var)]"
   ]
  },
  {
   "cell_type": "code",
   "execution_count": 219,
   "metadata": {
    "collapsed": false,
    "scrolled": false
   },
   "outputs": [],
   "source": [
    "# no_trans\n",
    "def not_ch(text):\n",
    "    return not has_ch(text) and text !=''\n",
    "nots = xdf[xdf['merged'].apply(not_ch)].drop_duplicates()"
   ]
  },
  {
   "cell_type": "code",
   "execution_count": 220,
   "metadata": {
    "collapsed": false
   },
   "outputs": [],
   "source": [
    "ha = pd.merge(vas, nots, how='outer')\n",
    "fixdf = pd.read_excel(os.path.join(STORAGE_DIR,'Tyr_guifix.xlsx'), index_col='index').fillna('').drop_duplicates()"
   ]
  },
  {
   "cell_type": "code",
   "execution_count": 221,
   "metadata": {
    "collapsed": false,
    "scrolled": true
   },
   "outputs": [],
   "source": [
    "pdf = pd.merge(ha, fixdf, how='outer').fillna('')\n",
    "pdf.index = [pdf['Name'] + '_' + pdf['ID'].astype('str')]\n",
    "# pdf = pdf.sort(['Name','ID'])"
   ]
  },
  {
   "cell_type": "code",
   "execution_count": 222,
   "metadata": {
    "collapsed": true
   },
   "outputs": [],
   "source": [
    "pdf[['Name','ID','DefaultText','merged','Fixed','说明']].to_excel(os.path.join(TEMP_DIR, 'neo.xlsx'))"
   ]
  },
  {
   "cell_type": "code",
   "execution_count": null,
   "metadata": {
    "collapsed": false
   },
   "outputs": [],
   "source": [
    "quo = xdf['DefaultText'].str.extract('(\\[[^url/url][^\\]]*\\])',expand=True).drop_duplicates().fillna('')"
   ]
  },
  {
   "cell_type": "code",
   "execution_count": null,
   "metadata": {
    "collapsed": false,
    "scrolled": true
   },
   "outputs": [],
   "source": [
    "quo.to_excel(os.path.join(TEMP_DIR, 'quo.xlsx'))"
   ]
  },
  {
   "cell_type": "code",
   "execution_count": null,
   "metadata": {
    "collapsed": false
   },
   "outputs": [],
   "source": [
    "# e.g \n",
    "# [url=glossary:blinded]Blinded[/url] keyilo [url=glossary:blinded]目盲[/url]\n",
    "\n",
    "# \\[url=glossary:blinded.*?(?=\\])]\n",
    "# >> [url=glossary:blinded]\n",
    "\n",
    "# \\[(url*?)[^\\]]*\\].*?\\[/url\\]\n",
    "# >> [url=glossary:blinded]Blinded[/url] || [url=glossary:blinded]目盲[/url]\n",
    "\n",
    "gloss = os.path.join(STORAGE_DIR, 'tyr_gloss.xlsx')\n",
    "gl = pd.read_excel(gloss)\n",
    "gl = gl.join(gl[0].str.extract('(\\[url=(.*?[^\\]]*)\\].*?\\[/url\\])',expand=True)[1], how='outer')\n",
    "gl"
   ]
  },
  {
   "cell_type": "code",
   "execution_count": null,
   "metadata": {
    "collapsed": false
   },
   "outputs": [],
   "source": []
  },
  {
   "cell_type": "code",
   "execution_count": null,
   "metadata": {
    "collapsed": false
   },
   "outputs": [],
   "source": []
  },
  {
   "cell_type": "code",
   "execution_count": null,
   "metadata": {
    "collapsed": false
   },
   "outputs": [],
   "source": []
  },
  {
   "cell_type": "code",
   "execution_count": null,
   "metadata": {
    "collapsed": true
   },
   "outputs": [],
   "source": []
  }
 ],
 "metadata": {
  "anaconda-cloud": {},
  "kernelspec": {
   "display_name": "Python [conda root]",
   "language": "python",
   "name": "conda-root-py"
  },
  "language_info": {
   "codemirror_mode": {
    "name": "ipython",
    "version": 3
   },
   "file_extension": ".py",
   "mimetype": "text/x-python",
   "name": "python",
   "nbconvert_exporter": "python",
   "pygments_lexer": "ipython3",
   "version": "3.5.2"
  }
 },
 "nbformat": 4,
 "nbformat_minor": 1
}

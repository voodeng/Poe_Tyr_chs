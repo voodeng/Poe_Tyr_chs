{
 "cells": [
  {
   "cell_type": "code",
   "execution_count": 1,
   "metadata": {
    "collapsed": true
   },
   "outputs": [],
   "source": [
    "# -*- coding: utf-8 -*-\n",
    "import sys\n",
    "import os\n",
    "import pandas as pd\n",
    "import numpy as np\n",
    "import xml.etree.ElementTree as ET\n",
    "import xlrd\n",
    "import openpyxl\n",
    "\n",
    "sys.path.append(\"..\")\n",
    "from config import *\n",
    "from lib import *"
   ]
  },
  {
   "cell_type": "code",
   "execution_count": 2,
   "metadata": {
    "collapsed": false
   },
   "outputs": [],
   "source": [
    "targe_file = merge_result_output_filename\n",
    "ldf = pd.read_excel(targe_file, index_col=[0])\n",
    "\n",
    "patch_file = os.path.join(STORAGE_DIR, 'Tyr_custom.xlsx')\n",
    "cdf = pd.read_excel(patch_file, index_col=[0])\n",
    "\n",
    "xdf = ldf.join(cdf[['Custom', 'Custom_female']]).fillna('')"
   ]
  },
  {
   "cell_type": "code",
   "execution_count": 3,
   "metadata": {
    "collapsed": false
   },
   "outputs": [],
   "source": [
    "l_key = '[ali]DefaultText'\n",
    "lf_key = '[ali]FemaleText'\n",
    "r_key = '[3dm]DefaultText'\n",
    "rf_key = '[3dm]FemaleText'\n",
    "m_key = 'merged'\n",
    "f_key = 'merged_female'"
   ]
  },
  {
   "cell_type": "code",
   "execution_count": 4,
   "metadata": {
    "collapsed": true
   },
   "outputs": [],
   "source": [
    "# 遍历行，按相应方式合并到 merged cell\n",
    "def new_merge(xdf):\n",
    "    merges = []\n",
    "    merges_female = []\n",
    "\n",
    "    for i,row in xdf.iterrows():\n",
    "        new_cell = ''    \n",
    "        if row['Custom'] != '':\n",
    "            new_cell = row['Custom']\n",
    "        elif not has_ch(row[l_key]) and has_ch(row[r_key]):\n",
    "            new_cell = row[r_key]\n",
    "        else:\n",
    "            new_cell = row[l_key]\n",
    "            \n",
    "        merges.append(new_cell)\n",
    "\n",
    "        new_f_cell = ''\n",
    "        if row['Custom_female'] != '':\n",
    "            new_f_cell = row['Custom_female']\n",
    "        elif has_ch(row['[ali]FemaleText']):\n",
    "            new_f_cell = row['[ali]FemaleText']\n",
    "        elif not has_ch(row['[ali]FemaleText']) and has_ch(row['[3dm]FemaleText']):\n",
    "            new_f_cell = row['[3dm]FemaleText']\n",
    "        else:\n",
    "            new_f_cell = row['FemaleText']\n",
    " \n",
    "        merges_female.append(new_f_cell)\n",
    "\n",
    "    xdf[m_key] = merges\n",
    "    xdf[f_key] = merges_female\n",
    "    return xdf\n",
    "    \n",
    "xdf = new_merge(xdf)"
   ]
  },
  {
   "cell_type": "code",
   "execution_count": 5,
   "metadata": {
    "collapsed": false
   },
   "outputs": [
    {
     "data": {
      "text/plain": [
       "Name                                           game\\gui\n",
       "ID                                                 4234\n",
       "DefaultText         Unarmed [url=glossary:dps]DPS[/url]\n",
       "FemaleText                                             \n",
       "[ali]DefaultText         徒手[url=glossary:dps]伤害输出[/url]\n",
       "[ali]FemaleText                                        \n",
       "[3dm]DefaultText          徒手[url=glossary:dps]DPS[/url]\n",
       "[3dm]FemaleText                                        \n",
       "Custom                    徒手[url=glossary:dps]DPS[/url]\n",
       "Custom_female                                          \n",
       "merged                    徒手[url=glossary:dps]DPS[/url]\n",
       "merged_female                                          \n",
       "Name: game\\gui_4234, dtype: object"
      ]
     },
     "execution_count": 5,
     "metadata": {},
     "output_type": "execute_result"
    }
   ],
   "source": [
    "xdf.ix[41816]"
   ]
  },
  {
   "cell_type": "code",
   "execution_count": 6,
   "metadata": {
    "collapsed": true
   },
   "outputs": [],
   "source": [
    "# glossary 名词表替换\n",
    "def gloss_patch(Series):\n",
    "    gloss_file = os.path.join(STORAGE_DIR, 'Tyr_gloss.xlsx')\n",
    "    gloss_list = pd.read_excel(gloss_file).fillna('')\n",
    "\n",
    "    en_key = 'en'\n",
    "    chs_key = 'chs'\n",
    "    oth_key = 'oth'\n",
    "    # code key\n",
    "    reg = '\\[url=glossary:(.*?)\\]'\n",
    "    gloss_list['code'] = gloss_list[en_key].str.extract(reg,expand=False)\n",
    "    gloss_list['chs_code'] = gloss_list[chs_key].str.extract('\\[url=.*?\\](.*?)(?=\\[/url\\])',expand=False)\n",
    "    gloss_list = gloss_list.fillna('')\n",
    "    gloss_list.ix[57]\n",
    "\n",
    "    for i, row in gloss_list.iterrows():  \n",
    "        if row[chs_key] != '':\n",
    "            re = '(\\[url=glossary:'+row['code']+'\\].*?\\[/url\\])'\n",
    "            repl = '[url=glossary:{chs}]{chs}[/url]'.format(chs = row['chs_code'])\n",
    "#             print('repl: ' + re + ' to ' + repl)\n",
    "            Series = Series.str.replace(re, repl)\n",
    "            if row[oth_key] != '':\n",
    "                for k in row[oth_key].split(','):\n",
    "                    re2 = '(\\[url=glossary:'+ k +'\\].*?\\[/url\\])'\n",
    "#                     print('repl2: ' + re2 + ' to ' + repl)\n",
    "                    Series = Series.str.replace(re2, repl)\n",
    "    return Series\n",
    "\n",
    "# xdf[m_key] = gloss_patch(xdf[m_key])\n",
    "xdf[m_key] = gloss_patch(xdf[m_key]).apply(fix_text)\n",
    "xdf[f_key] = gloss_patch(xdf[f_key]).apply(fix_text)"
   ]
  },
  {
   "cell_type": "code",
   "execution_count": null,
   "metadata": {
    "collapsed": false
   },
   "outputs": [],
   "source": []
  },
  {
   "cell_type": "code",
   "execution_count": 7,
   "metadata": {
    "collapsed": false
   },
   "outputs": [
    {
     "data": {
      "text/plain": [
       "'“凭你和缚命官法庭的关系，可以阻止这次袭击，除非涅尔特或者艾休非常想对[url=glossary:图侬]图侬[/url]宣战…我觉得这未必不可能。”\\n\\n“为了大家好，你应该向[url=glossary:图侬]图侬[/url]报告，装装样子就够了。”\\n\\n“无论如何，你对[url=glossary:图侬]图侬[/url]的忠诚会从执政官手中保护我们，所以你最好尽量维持和缚命官法庭的关系。不然”'"
      ]
     },
     "execution_count": 7,
     "metadata": {},
     "output_type": "execute_result"
    }
   ],
   "source": [
    "# name patch\n",
    "def name_list(Series):\n",
    "    n_file = os.path.join(STORAGE_DIR, 'Tyr_name.xlsx')\n",
    "    n_list = pd.read_excel(n_file).fillna('')\n",
    "    \n",
    "    for i,row in n_list.iterrows():\n",
    "        if row['chs'] != '' and row['oth'] != '':\n",
    "            am = row['oth'].split(',')\n",
    "            if row['en'] !='':\n",
    "                am.append(row['en'])\n",
    "                \n",
    "            for k in am:\n",
    "                k = k.replace('[','\\\\[').replace(']','\\\\]')\n",
    "                Series = Series.str.replace(''.join(k), row['chs'])\n",
    "\n",
    "    return Series\n",
    "\n",
    "xdf[m_key] = name_list(xdf[m_key])\n",
    "xdf[f_key] = name_list(xdf[f_key])\n",
    "xdf[m_key].ix[47]"
   ]
  },
  {
   "cell_type": "code",
   "execution_count": 8,
   "metadata": {
    "collapsed": false
   },
   "outputs": [
    {
     "data": {
      "text/plain": [
       "'[{0}{1}({2}~{3})]'"
      ]
     },
     "execution_count": 8,
     "metadata": {},
     "output_type": "execute_result"
    }
   ],
   "source": [
    "# fix ->\n",
    "def gui_patch(Series):\n",
    "    patch_file = os.path.join(STORAGE_DIR, 'Tyr_guifix.xlsx')\n",
    "    patch_list = pd.read_excel(patch_file, index_col=0).fillna('')\n",
    "    \n",
    "    new_s = Series.copy()\n",
    "    for i, row in patch_list.iterrows():\n",
    "        if row['Custom'] != '':\n",
    "            new_s[i] = row['Custom']\n",
    "    return new_s\n",
    "    \n",
    "            \n",
    "# xdf[m_key] = gui_patch(xdf[m_key])\n",
    "xdf[m_key] = gui_patch(xdf[m_key])\n",
    "xdf[m_key].ix[41924]"
   ]
  },
  {
   "cell_type": "code",
   "execution_count": null,
   "metadata": {
    "collapsed": false
   },
   "outputs": [],
   "source": []
  },
  {
   "cell_type": "code",
   "execution_count": 10,
   "metadata": {
    "collapsed": true
   },
   "outputs": [],
   "source": [
    "# 未翻译的行\n",
    "def not_ch(text):\n",
    "    return not has_ch(text)\n",
    "xdf[xdf[l_key].apply(not_ch)].drop_duplicates(l_key).to_excel(os.path.join(TEMP_DIR,'notrans.xlsx'))"
   ]
  },
  {
   "cell_type": "code",
   "execution_count": 11,
   "metadata": {
    "collapsed": false
   },
   "outputs": [],
   "source": [
    "# 不对称或缺失引号，fix_text 处理后，未对称的引号会使用全角符号，方便查找\n",
    "# ＇ ＂\n",
    "doub = xdf[xdf[m_key].str.contains('＂.*?')]\n",
    "sign = xdf[xdf[m_key].str.contains('＇.*?')]\n",
    "tign = pd.merge(doub, sign, how='outer')\n",
    "tign[['Name','ID','DefaultText',l_key,m_key, f_key]].to_excel(os.path.join(TEMP_DIR,'quote.xlsx'))"
   ]
  },
  {
   "cell_type": "code",
   "execution_count": 12,
   "metadata": {
    "collapsed": false
   },
   "outputs": [],
   "source": [
    "# 后期依次修改，先期转换为英文标点使用\n",
    "xdf[m_key] = xdf[m_key].str.replace('＂','\"')\n",
    "xdf[m_key] = xdf[m_key].str.replace('＇',\"'\")"
   ]
  },
  {
   "cell_type": "code",
   "execution_count": 13,
   "metadata": {
    "collapsed": false
   },
   "outputs": [
    {
     "data": {
      "text/plain": [
       "\"“记下。我相信他宁愿蹲坐在荆棘地里也不会再去[url=glossary:vendrien'凡德里恩之井[/url]的。毕竟全是糟糕的回忆。不过如果是给某个无礼的缚命官带路参观他们住所的话，他可能会改变主意。”她对你做了个鬼脸。“把这当做警告。”\""
      ]
     },
     "execution_count": 13,
     "metadata": {},
     "output_type": "execute_result"
    }
   ],
   "source": [
    "xdf[m_key].ix[\"conversations\\\\00_stronghold\\\\00_cv_act_2_alliescompanion_introduction_37\"]\n",
    "xdf[m_key].ix[\"conversations\\\\00_stronghold\\\\00_cv_pillar_first_arrival_act1_end_anarchist_40\"]"
   ]
  },
  {
   "cell_type": "code",
   "execution_count": 16,
   "metadata": {
    "collapsed": true
   },
   "outputs": [],
   "source": [
    "# 生成处理后的文件，只包含merged cell\n",
    "final_file = os.path.join(TEMP_DIR,'Tyr_final.xlsx')\n",
    "xdf[[m_key,f_key]].to_excel(final_file, index_label='index')\n",
    "\n",
    "# 参考用\n",
    "# xdf.to_excel(os.path.join(TEMP_DIR,'Tyr_xdf.xlsx'))"
   ]
  },
  {
   "cell_type": "code",
   "execution_count": 14,
   "metadata": {
    "collapsed": true
   },
   "outputs": [],
   "source": [
    "# out\n",
    "from v_output import *\n",
    "# final_filename = os.path.join(TEMP_DIR, 'xdf.xlsx')\n",
    "en_strtbl_path = os.path.join(ORIGIN_DIR, 'Tyranny/1.0/en')\n",
    "output_strtbl_path = os.path.join(OUTPUT_DIR, 'Tyr/Vmod')\n",
    "xmlfilename = os.path.join(output_strtbl_path, \"language.xml\")\n",
    "\n",
    "# 使用处理后的文件\n",
    "# final_file = os.path.join(TEMP_DIR,'Tyr_final.xlsx')\n",
    "# final_df = pd.read_excel(final_file,index_col=0).fillna('')\n",
    "# df_outstring(final_df, en_strtbl_path, output_strtbl_path, m_key,f_key)\n",
    "\n",
    "# 使用df数据\n",
    "# df_outstring(xdf, en_strtbl_path, output_strtbl_path, m_key,f_key)\n",
    "# gen_xml(xmlfilename)"
   ]
  },
  {
   "cell_type": "code",
   "execution_count": null,
   "metadata": {
    "collapsed": true
   },
   "outputs": [],
   "source": []
  },
  {
   "cell_type": "code",
   "execution_count": 15,
   "metadata": {
    "collapsed": false
   },
   "outputs": [],
   "source": []
  },
  {
   "cell_type": "code",
   "execution_count": null,
   "metadata": {
    "collapsed": true
   },
   "outputs": [],
   "source": []
  }
 ],
 "metadata": {
  "anaconda-cloud": {},
  "kernelspec": {
   "display_name": "Python [conda root]",
   "language": "python",
   "name": "conda-root-py"
  },
  "language_info": {
   "codemirror_mode": {
    "name": "ipython",
    "version": 3
   },
   "file_extension": ".py",
   "mimetype": "text/x-python",
   "name": "python",
   "nbconvert_exporter": "python",
   "pygments_lexer": "ipython3",
   "version": "3.5.2"
  }
 },
 "nbformat": 4,
 "nbformat_minor": 1
}
